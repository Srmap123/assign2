{
 "cells": [
  {
   "cell_type": "markdown",
   "metadata": {
    "id": "UJtQjLfDofuz"
   },
   "source": [
    "Write a program that takes two strings from the user: first_name, last_name. Pass these variables to\n",
    "fullname function that should return the (full name).\n",
    "o For example:\n",
    "▪ First_name = “your first name”, last_name = “your last name”\n",
    "▪ First_name = “your full name”\n",
    "o Write function named “string_alternative” that returns every other char in the full_name string.\n",
    "Str = “Good evening”\n",
    "Output: Go vnn\n",
    "Note: You need to create a function named “string_alternative” for this program and call it from "
   ]
  },
  {
   "cell_type": "code",
   "execution_count": 1,
   "metadata": {
    "colab": {
     "base_uri": "https://localhost:8080/"
    },
    "id": "S6sEKfOHoslU",
    "outputId": "ebf796e3-4f22-4038-f7ec-03451bc05639"
   },
   "outputs": [
    {
     "name": "stdout",
     "output_type": "stream",
     "text": [
      "Enter First name : harsha\n",
      "Enter Last name : SAI\n",
      "harsha SAI\n",
      "hrh A\n"
     ]
    }
   ],
   "source": [
    "def full_name(a,b):\n",
    "    return a+\" \"+b\n",
    "\n",
    "\n",
    "def string_alternative(a):\n",
    "    b = \"\";\n",
    "    c = 0;\n",
    "    for x in a:\n",
    "        if c==0:\n",
    "            b+=x\n",
    "            c = 1\n",
    "        else:\n",
    "            c = 0\n",
    "    return b\n",
    "\n",
    "\n",
    "First_name = input(\"Enter First name : \")\n",
    "Last_name = input(\"Enter Last name : \")\n",
    "\n",
    "Full_name = full_name(First_name,Last_name)\n",
    "print(Full_name)\n",
    "\n",
    "print(string_alternative(Full_name))"
   ]
  },
  {
   "cell_type": "code",
   "execution_count": null,
   "metadata": {
    "colab": {
     "base_uri": "https://localhost:8080/"
    },
    "id": "GdUFB1jFpAWp",
    "outputId": "ea15a4a0-d3cf-44e7-d701-f50571fe1d3e"
   },
   "outputs": [],
   "source": []
  },
  {
   "cell_type": "markdown",
   "metadata": {
    "id": "M296KakmpL_b"
   },
   "source": [
    "Write a python program to find the wordcount in a file (input.txt) for each line and then print the output.\n",
    "o Finally store the output in output.txt file. "
   ]
  },
  {
   "cell_type": "code",
   "execution_count": null,
   "metadata": {
    "colab": {
     "base_uri": "https://localhost:8080/"
    },
    "id": "SByM9pvBpQJY",
    "outputId": "b43c8657-f07b-4780-9cc6-58071ec27581"
   },
   "outputs": [],
   "source": [
    "Input_file = open(\"input.txt\", \"r\")\n",
    "#Write the number of words count and split the data from input file\n",
    "output_file = open(\"output.txt\", \"w\")\n",
    "\n",
    "content = {}\n",
    "\n",
    "\n",
    "for line in input_file:\n",
    "    output_file.write(line)\n",
    "    new_l = line.split()\n",
    "    for x in new_l:\n",
    "        if(content.get(x)==None):\n",
    "            content[x]=1\n",
    "        else:\n",
    "            content[x] = content[x] + 1\n",
    "            \n",
    "output_file.write(\" Word_Count : \")\n",
    "for key, value in content.items(): \n",
    "        output_file.write('%s:%s\\n' % (key, value))\n",
    "input_file.close()\n",
    "output_file.close()"
   ]
  },
  {
   "cell_type": "markdown",
   "metadata": {
    "id": "frmYntQZpbSr"
   },
   "source": [
    "Write a program, which reads heights (inches.) of customers into a list and convert these\n",
    "heights to centimeters in a separate list using:\n",
    "1) Nested Interactive loop.\n",
    "2) List comprehensions"
   ]
  },
  {
   "cell_type": "code",
   "execution_count": 2,
   "metadata": {
    "colab": {
     "base_uri": "https://localhost:8080/"
    },
    "id": "Cm9R43BApg7z",
    "outputId": "ae30a581-780d-4910-d33f-ca0ab8e4630d"
   },
   "outputs": [
    {
     "name": "stdout",
     "output_type": "stream",
     "text": [
      "enter customer heights : 12 34 45 56\n",
      "show list :  [30.48, 86.36, 114.3, 142.24]\n"
     ]
    }
   ],
   "source": [
    "#Read the input data of customer heights in inches\n",
    "data = input(\"enter customer heights : \")\n",
    "\n",
    "#convert the height of customer in inches to centimeters\n",
    "def inchToCent(value):\n",
    "    return value*2.54\n",
    "\n",
    "heights = data.split()\n",
    "\n",
    "new_list = []\n",
    "\n",
    "for x in heights:\n",
    "    value = int(x)\n",
    "    new_list.append(inchToCent(value))\n",
    "    \n",
    "print(\"show list : \",new_list)"
   ]
  },
  {
   "cell_type": "code",
   "execution_count": null,
   "metadata": {},
   "outputs": [],
   "source": []
  },
  {
   "cell_type": "code",
   "execution_count": null,
   "metadata": {},
   "outputs": [],
   "source": []
  }
 ],
 "metadata": {
  "colab": {
   "provenance": [],
   "toc_visible": true
  },
  "kernelspec": {
   "display_name": "Python 3 (ipykernel)",
   "language": "python",
   "name": "python3"
  },
  "language_info": {
   "codemirror_mode": {
    "name": "ipython",
    "version": 3
   },
   "file_extension": ".py",
   "mimetype": "text/x-python",
   "name": "python",
   "nbconvert_exporter": "python",
   "pygments_lexer": "ipython3",
   "version": "3.9.13"
  }
 },
 "nbformat": 4,
 "nbformat_minor": 1
}
